{
 "cells": [
  {
   "cell_type": "code",
   "execution_count": 1,
   "id": "9e270696-e0bc-4616-9e30-80fd8a0ae754",
   "metadata": {},
   "outputs": [
    {
     "data": {
      "text/plain": [
       "('Example1.txt', <http.client.HTTPMessage at 0x7ff0d44b7b70>)"
      ]
     },
     "execution_count": 1,
     "metadata": {},
     "output_type": "execute_result"
    }
   ],
   "source": [
    "import urllib.request\n",
    "url = 'https://cf-courses-data.s3.us.cloud-object-storage.appdomain.cloud/IBMDeveloperSkillsNetwork-PY0101EN-SkillsNetwork/labs/Module%204/data/example1.txt'\n",
    "filename = 'Example1.txt'\n",
    "urllib.request.urlretrieve(url, filename)"
   ]
  },
  {
   "cell_type": "code",
   "execution_count": 2,
   "id": "c04dd9e7-83a6-46b9-8ebe-e41c9922a524",
   "metadata": {},
   "outputs": [
    {
     "name": "stdout",
     "output_type": "stream",
     "text": [
      "/resources/data/Example1.txt: No such file or directory\n"
     ]
    }
   ],
   "source": [
    "!wget -O /resources/data/Example1.txt https://cf-courses-data.s3.us.cloud-object-storage.appdomain.cloud/IBMDeveloperSkillsNetwork-PY0101EN-SkillsNetwork/labs/Module%204/data/example1.txt"
   ]
  },
  {
   "cell_type": "code",
   "execution_count": 5,
   "id": "ad7c7a3c-2630-4d06-99eb-bef9b4570cb2",
   "metadata": {},
   "outputs": [],
   "source": [
    "example1 = 'Example1.txt'\n",
    "file1 = open(example1, 'r')"
   ]
  },
  {
   "cell_type": "code",
   "execution_count": 6,
   "id": "2eac5f21-88a1-409d-aa4c-0e433c2ae2f1",
   "metadata": {},
   "outputs": [
    {
     "data": {
      "text/plain": [
       "'Example1.txt'"
      ]
     },
     "execution_count": 6,
     "metadata": {},
     "output_type": "execute_result"
    }
   ],
   "source": [
    "file1.name"
   ]
  },
  {
   "cell_type": "code",
   "execution_count": 7,
   "id": "806ed71e-c110-403e-a2fa-8eb521ba41aa",
   "metadata": {},
   "outputs": [
    {
     "data": {
      "text/plain": [
       "'r'"
      ]
     },
     "execution_count": 7,
     "metadata": {},
     "output_type": "execute_result"
    }
   ],
   "source": [
    "file1.mode"
   ]
  },
  {
   "cell_type": "code",
   "execution_count": 8,
   "id": "93bf42e5-1600-40ae-8131-d4b711da4465",
   "metadata": {},
   "outputs": [
    {
     "data": {
      "text/plain": [
       "'This is line 1 \\nThis is line 2\\nThis is line 3'"
      ]
     },
     "execution_count": 8,
     "metadata": {},
     "output_type": "execute_result"
    }
   ],
   "source": [
    "FileContent = file1.read()\n",
    "FileContent"
   ]
  },
  {
   "cell_type": "code",
   "execution_count": 9,
   "id": "13fd8f01-3a5f-473c-a4f7-a8ef1e13e288",
   "metadata": {},
   "outputs": [
    {
     "name": "stdout",
     "output_type": "stream",
     "text": [
      "This is line 1 \n",
      "This is line 2\n",
      "This is line 3\n"
     ]
    }
   ],
   "source": [
    "print(FileContent)"
   ]
  },
  {
   "cell_type": "code",
   "execution_count": 10,
   "id": "1e51719f-93d3-4cec-aa3a-86e5abda2ede",
   "metadata": {},
   "outputs": [
    {
     "data": {
      "text/plain": [
       "str"
      ]
     },
     "execution_count": 10,
     "metadata": {},
     "output_type": "execute_result"
    }
   ],
   "source": [
    "type(FileContent)"
   ]
  },
  {
   "cell_type": "code",
   "execution_count": 11,
   "id": "ea34cf65-a516-4af6-a9ea-73da14f0e21e",
   "metadata": {},
   "outputs": [],
   "source": [
    "file1.close()"
   ]
  },
  {
   "cell_type": "code",
   "execution_count": 12,
   "id": "580ed48e-90a0-4c54-9f91-ca3dee18117f",
   "metadata": {},
   "outputs": [
    {
     "name": "stdout",
     "output_type": "stream",
     "text": [
      "This is line 1 \n",
      "This is line 2\n",
      "This is line 3\n"
     ]
    }
   ],
   "source": [
    "with open(example1, 'r') as file1:\n",
    "    FileContent = file1.read()\n",
    "    print(FileContent)"
   ]
  },
  {
   "cell_type": "code",
   "execution_count": 13,
   "id": "18363c29-e4f8-44c6-9511-471471f8d3ba",
   "metadata": {},
   "outputs": [
    {
     "data": {
      "text/plain": [
       "True"
      ]
     },
     "execution_count": 13,
     "metadata": {},
     "output_type": "execute_result"
    }
   ],
   "source": [
    "file1.closed"
   ]
  },
  {
   "cell_type": "code",
   "execution_count": 14,
   "id": "da1b0ad4-4f62-4dda-8857-fc49f7f7b62e",
   "metadata": {},
   "outputs": [
    {
     "name": "stdout",
     "output_type": "stream",
     "text": [
      "This is line 1 \n",
      "This is line 2\n",
      "This is line 3\n"
     ]
    }
   ],
   "source": [
    "print(FileContent)"
   ]
  },
  {
   "cell_type": "code",
   "execution_count": 15,
   "id": "9f4e25d0-3afc-4461-983a-b7f489a3a249",
   "metadata": {},
   "outputs": [
    {
     "name": "stdout",
     "output_type": "stream",
     "text": [
      "This\n"
     ]
    }
   ],
   "source": [
    "with open(example1, 'r') as file1:\n",
    "    print(file1.read(4))"
   ]
  },
  {
   "cell_type": "code",
   "execution_count": 16,
   "id": "b9170258-cdd1-4e16-81c5-a3950586e806",
   "metadata": {},
   "outputs": [
    {
     "name": "stdout",
     "output_type": "stream",
     "text": [
      "This\n",
      " is \n",
      "line 1 \n",
      "\n",
      "This is line 2\n"
     ]
    }
   ],
   "source": [
    "with open(example1, 'r') as file1:\n",
    "    print(file1.read(4))\n",
    "    print(file1.read(4))\n",
    "    print(file1.read(7))\n",
    "    print(file1.read(15))"
   ]
  },
  {
   "cell_type": "code",
   "execution_count": 17,
   "id": "2092a634-8ad3-4deb-8a74-fe24cd423cca",
   "metadata": {},
   "outputs": [
    {
     "name": "stdout",
     "output_type": "stream",
     "text": [
      "This is line 1 \n",
      "\n",
      "This \n",
      "is line 2\n"
     ]
    }
   ],
   "source": [
    "with open(example1, 'r') as file1:\n",
    "    print(file1.read(16))\n",
    "    print(file1.read(5))\n",
    "    print(file1.read(9))"
   ]
  },
  {
   "cell_type": "code",
   "execution_count": 18,
   "id": "c891805f-1864-49bb-bda9-97665f6ad7f1",
   "metadata": {},
   "outputs": [
    {
     "name": "stdout",
     "output_type": "stream",
     "text": [
      "first line: This is line 1 \n",
      "\n"
     ]
    }
   ],
   "source": [
    "with open(example1, 'r') as file1:\n",
    "    print('first line: ' + file1.readline())"
   ]
  },
  {
   "cell_type": "code",
   "execution_count": 20,
   "id": "c2634d92-e4c8-42ae-90b1-1c895ecbd9ad",
   "metadata": {},
   "outputs": [
    {
     "name": "stdout",
     "output_type": "stream",
     "text": [
      "This is line 1 \n",
      "\n",
      "This is line 2\n",
      "This \n"
     ]
    }
   ],
   "source": [
    "with open(example1, 'r') as file1:\n",
    "    print(file1.readline(20))\n",
    "    print(file1.read(20))"
   ]
  },
  {
   "cell_type": "code",
   "execution_count": 21,
   "id": "6aa65000-19d1-46c4-9541-bab3ed10f056",
   "metadata": {},
   "outputs": [
    {
     "name": "stdout",
     "output_type": "stream",
     "text": [
      "Iteration 0 :  This is line 1 \n",
      "\n",
      "Iteration 1 :  This is line 2\n",
      "\n",
      "Iteration 2 :  This is line 3\n"
     ]
    }
   ],
   "source": [
    "with open(example1, 'r') as file1:\n",
    "    i = 0;\n",
    "    for line in file1:\n",
    "        print('Iteration', str(i), ': ', line)\n",
    "        i = i + 1"
   ]
  },
  {
   "cell_type": "code",
   "execution_count": 22,
   "id": "a86d7004-38f8-48b4-8c61-49d048830ccb",
   "metadata": {},
   "outputs": [],
   "source": [
    "with open(example1, 'r') as file1:\n",
    "    FileasList = file1.readlines()"
   ]
  },
  {
   "cell_type": "code",
   "execution_count": 23,
   "id": "d8c5eeed-04ad-4141-a9ca-d5cf45a8d347",
   "metadata": {},
   "outputs": [
    {
     "data": {
      "text/plain": [
       "'This is line 1 \\n'"
      ]
     },
     "execution_count": 23,
     "metadata": {},
     "output_type": "execute_result"
    }
   ],
   "source": [
    "FileasList[0]"
   ]
  },
  {
   "cell_type": "code",
   "execution_count": 24,
   "id": "a0b67529-55ee-4b79-9531-3de3b570d3eb",
   "metadata": {},
   "outputs": [
    {
     "data": {
      "text/plain": [
       "'This is line 3'"
      ]
     },
     "execution_count": 24,
     "metadata": {},
     "output_type": "execute_result"
    }
   ],
   "source": [
    "FileasList[2]"
   ]
  }
 ],
 "metadata": {
  "kernelspec": {
   "display_name": "Python",
   "language": "python",
   "name": "conda-env-python-py"
  },
  "language_info": {
   "codemirror_mode": {
    "name": "ipython",
    "version": 3
   },
   "file_extension": ".py",
   "mimetype": "text/x-python",
   "name": "python",
   "nbconvert_exporter": "python",
   "pygments_lexer": "ipython3",
   "version": "3.6.13"
  }
 },
 "nbformat": 4,
 "nbformat_minor": 5
}
